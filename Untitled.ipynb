{
 "cells": [
  {
   "cell_type": "code",
   "execution_count": 6,
   "id": "56766e4b",
   "metadata": {},
   "outputs": [],
   "source": [
    "import cv2\n",
    "import mediapipe as mp\n",
    "\n",
    "#inicializar o opencv e o mediapipe\n",
    "webcam = cv2.VideoCapture(0)\n",
    "solucao_reconhecimento_rosto = mp.solutions.face_detection\n",
    "reconhecer_rostos = solucao_reconhecimento_rosto.FaceDetection()\n",
    "desenho = mp.solutions.drawing_utils\n",
    "\n",
    "while True:\n",
    "    # ler as informações da webcam\n",
    "    verificador, frame = webcam.read()\n",
    "    if not verificador:\n",
    "        break\n",
    "    \n",
    "    # reconhecer os rostos que tem ali dentro\n",
    "    lista_rostos = reconhecer_rostos.process(frame)\n",
    "    \n",
    "    if lista_rostos.detections:\n",
    "        for rosto in lista_rostos.detections:\n",
    "            # desenha os rostos na imagem\n",
    "            desenho.draw_detection(frame, rosto)\n",
    "            \n",
    "    cv2.imshow(\"Rostos na Webcam\", frame)\n",
    "    \n",
    "    # quando apertar ESC, para o loop\n",
    "    if cv2.waitKey(5) == 27:\n",
    "        break\n",
    "        \n",
    "webcam.release()\n",
    "cv2.destroyAllWindows()"
   ]
  },
  {
   "cell_type": "code",
   "execution_count": null,
   "id": "86ba5c50",
   "metadata": {},
   "outputs": [],
   "source": []
  }
 ],
 "metadata": {
  "kernelspec": {
   "display_name": "Python 3",
   "language": "python",
   "name": "python3"
  },
  "language_info": {
   "codemirror_mode": {
    "name": "ipython",
    "version": 3
   },
   "file_extension": ".py",
   "mimetype": "text/x-python",
   "name": "python",
   "nbconvert_exporter": "python",
   "pygments_lexer": "ipython3",
   "version": "3.8.8"
  }
 },
 "nbformat": 4,
 "nbformat_minor": 5
}
